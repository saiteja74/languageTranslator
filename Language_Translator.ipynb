{
  "cells": [
    {
      "cell_type": "code",
      "execution_count": 1,
      "metadata": {
        "colab": {
          "base_uri": "https://localhost:8080/"
        },
        "id": "ez2A7wcSRFOF",
        "outputId": "9ca8dca6-85fe-4671-97d4-70768a9e12eb"
      },
      "outputs": [
        {
          "name": "stdout",
          "output_type": "stream",
          "text": [
            "Collecting ibm_watson\n",
            "  Downloading ibm-watson-5.3.0.tar.gz (412 kB)\n",
            "\u001b[?25l\r\u001b[K     |▉                               | 10 kB 20.8 MB/s eta 0:00:01\r\u001b[K     |█▋                              | 20 kB 25.5 MB/s eta 0:00:01\r\u001b[K     |██▍                             | 30 kB 14.8 MB/s eta 0:00:01\r\u001b[K     |███▏                            | 40 kB 10.7 MB/s eta 0:00:01\r\u001b[K     |████                            | 51 kB 8.6 MB/s eta 0:00:01\r\u001b[K     |████▊                           | 61 kB 9.0 MB/s eta 0:00:01\r\u001b[K     |█████▋                          | 71 kB 7.8 MB/s eta 0:00:01\r\u001b[K     |██████▍                         | 81 kB 8.6 MB/s eta 0:00:01\r\u001b[K     |███████▏                        | 92 kB 8.5 MB/s eta 0:00:01\r\u001b[K     |████████                        | 102 kB 7.8 MB/s eta 0:00:01\r\u001b[K     |████████▊                       | 112 kB 7.8 MB/s eta 0:00:01\r\u001b[K     |█████████▌                      | 122 kB 7.8 MB/s eta 0:00:01\r\u001b[K     |██████████▎                     | 133 kB 7.8 MB/s eta 0:00:01\r\u001b[K     |███████████▏                    | 143 kB 7.8 MB/s eta 0:00:01\r\u001b[K     |████████████                    | 153 kB 7.8 MB/s eta 0:00:01\r\u001b[K     |████████████▊                   | 163 kB 7.8 MB/s eta 0:00:01\r\u001b[K     |█████████████▌                  | 174 kB 7.8 MB/s eta 0:00:01\r\u001b[K     |██████████████▎                 | 184 kB 7.8 MB/s eta 0:00:01\r\u001b[K     |███████████████                 | 194 kB 7.8 MB/s eta 0:00:01\r\u001b[K     |████████████████                | 204 kB 7.8 MB/s eta 0:00:01\r\u001b[K     |████████████████▊               | 215 kB 7.8 MB/s eta 0:00:01\r\u001b[K     |█████████████████▌              | 225 kB 7.8 MB/s eta 0:00:01\r\u001b[K     |██████████████████▎             | 235 kB 7.8 MB/s eta 0:00:01\r\u001b[K     |███████████████████             | 245 kB 7.8 MB/s eta 0:00:01\r\u001b[K     |███████████████████▉            | 256 kB 7.8 MB/s eta 0:00:01\r\u001b[K     |████████████████████▋           | 266 kB 7.8 MB/s eta 0:00:01\r\u001b[K     |█████████████████████▌          | 276 kB 7.8 MB/s eta 0:00:01\r\u001b[K     |██████████████████████▎         | 286 kB 7.8 MB/s eta 0:00:01\r\u001b[K     |███████████████████████         | 296 kB 7.8 MB/s eta 0:00:01\r\u001b[K     |███████████████████████▉        | 307 kB 7.8 MB/s eta 0:00:01\r\u001b[K     |████████████████████████▋       | 317 kB 7.8 MB/s eta 0:00:01\r\u001b[K     |█████████████████████████▍      | 327 kB 7.8 MB/s eta 0:00:01\r\u001b[K     |██████████████████████████▏     | 337 kB 7.8 MB/s eta 0:00:01\r\u001b[K     |███████████████████████████     | 348 kB 7.8 MB/s eta 0:00:01\r\u001b[K     |███████████████████████████▉    | 358 kB 7.8 MB/s eta 0:00:01\r\u001b[K     |████████████████████████████▋   | 368 kB 7.8 MB/s eta 0:00:01\r\u001b[K     |█████████████████████████████▍  | 378 kB 7.8 MB/s eta 0:00:01\r\u001b[K     |██████████████████████████████▏ | 389 kB 7.8 MB/s eta 0:00:01\r\u001b[K     |███████████████████████████████ | 399 kB 7.8 MB/s eta 0:00:01\r\u001b[K     |███████████████████████████████▉| 409 kB 7.8 MB/s eta 0:00:01\r\u001b[K     |████████████████████████████████| 412 kB 7.8 MB/s \n",
            "\u001b[?25h  Installing build dependencies ... \u001b[?25l\u001b[?25hdone\n",
            "  Getting requirements to build wheel ... \u001b[?25l\u001b[?25hdone\n",
            "    Preparing wheel metadata ... \u001b[?25l\u001b[?25hdone\n",
            "Requirement already satisfied: python-dateutil>=2.5.3 in /usr/local/lib/python3.7/dist-packages (from ibm_watson) (2.8.2)\n",
            "Requirement already satisfied: requests<3.0,>=2.0 in /usr/local/lib/python3.7/dist-packages (from ibm_watson) (2.23.0)\n",
            "Collecting websocket-client==1.1.0\n",
            "  Downloading websocket_client-1.1.0-py2.py3-none-any.whl (68 kB)\n",
            "\u001b[K     |████████████████████████████████| 68 kB 9.6 MB/s \n",
            "\u001b[?25hCollecting ibm-cloud-sdk-core==3.*,>=3.3.6\n",
            "  Downloading ibm-cloud-sdk-core-3.13.2.tar.gz (49 kB)\n",
            "\u001b[K     |████████████████████████████████| 49 kB 8.1 MB/s \n",
            "\u001b[?25hCollecting requests<3.0,>=2.0\n",
            "  Downloading requests-2.26.0-py2.py3-none-any.whl (62 kB)\n",
            "\u001b[K     |████████████████████████████████| 62 kB 1.2 MB/s \n",
            "\u001b[?25hCollecting urllib3<2.0.0,>=1.26.0\n",
            "  Downloading urllib3-1.26.7-py2.py3-none-any.whl (138 kB)\n",
            "\u001b[K     |████████████████████████████████| 138 kB 69.4 MB/s \n",
            "\u001b[?25hCollecting PyJWT<3.0.0,>=2.0.1\n",
            "  Downloading PyJWT-2.3.0-py3-none-any.whl (16 kB)\n",
            "Requirement already satisfied: six>=1.5 in /usr/local/lib/python3.7/dist-packages (from python-dateutil>=2.5.3->ibm_watson) (1.15.0)\n",
            "Requirement already satisfied: idna<4,>=2.5 in /usr/local/lib/python3.7/dist-packages (from requests<3.0,>=2.0->ibm_watson) (2.10)\n",
            "Requirement already satisfied: charset-normalizer~=2.0.0 in /usr/local/lib/python3.7/dist-packages (from requests<3.0,>=2.0->ibm_watson) (2.0.8)\n",
            "Requirement already satisfied: certifi>=2017.4.17 in /usr/local/lib/python3.7/dist-packages (from requests<3.0,>=2.0->ibm_watson) (2021.10.8)\n",
            "Building wheels for collected packages: ibm-watson, ibm-cloud-sdk-core\n",
            "  Building wheel for ibm-watson (PEP 517) ... \u001b[?25l\u001b[?25hdone\n",
            "  Created wheel for ibm-watson: filename=ibm_watson-5.3.0-py3-none-any.whl size=408872 sha256=d5e2cb81a22c54703de58f2e1db1f9a4b073fe56571d165a94ba617537b986e0\n",
            "  Stored in directory: /root/.cache/pip/wheels/21/d9/82/4ce5b94730bc4f1f7b4c6384f72964b9b8f79fcc125bb8085c\n",
            "  Building wheel for ibm-cloud-sdk-core (setup.py) ... \u001b[?25l\u001b[?25hdone\n",
            "  Created wheel for ibm-cloud-sdk-core: filename=ibm_cloud_sdk_core-3.13.2-py3-none-any.whl size=83241 sha256=b4d4145243f2b768428b680d5438e2a28e789d7c86029db69d62cf47c85ea5d4\n",
            "  Stored in directory: /root/.cache/pip/wheels/f0/0d/5c/0c26fcc2db712e8d270e52f7c9f6d8abe33ca79ec29438aa14\n",
            "Successfully built ibm-watson ibm-cloud-sdk-core\n",
            "Installing collected packages: urllib3, requests, PyJWT, websocket-client, ibm-cloud-sdk-core, ibm-watson\n",
            "  Attempting uninstall: urllib3\n",
            "    Found existing installation: urllib3 1.24.3\n",
            "    Uninstalling urllib3-1.24.3:\n",
            "      Successfully uninstalled urllib3-1.24.3\n",
            "  Attempting uninstall: requests\n",
            "    Found existing installation: requests 2.23.0\n",
            "    Uninstalling requests-2.23.0:\n",
            "      Successfully uninstalled requests-2.23.0\n",
            "\u001b[31mERROR: pip's dependency resolver does not currently take into account all the packages that are installed. This behaviour is the source of the following dependency conflicts.\n",
            "google-colab 1.0.0 requires requests~=2.23.0, but you have requests 2.26.0 which is incompatible.\n",
            "datascience 0.10.6 requires folium==0.2.1, but you have folium 0.8.3 which is incompatible.\u001b[0m\n",
            "Successfully installed PyJWT-2.3.0 ibm-cloud-sdk-core-3.13.2 ibm-watson-5.3.0 requests-2.26.0 urllib3-1.26.7 websocket-client-1.1.0\n"
          ]
        }
      ],
      "source": [
        "!pip install ibm_watson"
      ]
    },
    {
      "cell_type": "code",
      "execution_count": 2,
      "metadata": {
        "id": "7ZQBS8lURadS"
      },
      "outputs": [],
      "source": [
        "API_key = 'Enter Your Language Translator API KEY'\n",
        "url = 'Enter Your Language Translator URL'"
      ]
    },
    {
      "cell_type": "code",
      "execution_count": 3,
      "metadata": {
        "id": "WN7jfaDNRoGX"
      },
      "outputs": [],
      "source": [
        "from ibm_watson import LanguageTranslatorV3\n",
        "from ibm_cloud_sdk_core.authenticators import IAMAuthenticator"
      ]
    },
    {
      "cell_type": "code",
      "execution_count": 4,
      "metadata": {
        "id": "1hhTzS7zR_Ox"
      },
      "outputs": [],
      "source": [
        "authenticator = IAMAuthenticator(apikey=API_key)\n",
        "\n",
        "langtranslator = LanguageTranslatorV3(version='2018-05-01', authenticator=authenticator)\n",
        "\n",
        "langtranslator.set_service_url(url)"
      ]
    },
    {
      "cell_type": "code",
      "execution_count": 7,
      "metadata": {
        "id": "jaumhw0DTbcd"
      },
      "outputs": [],
      "source": [
        "translation = langtranslator.translate(text='Hello World', model_id='en-te')"
      ]
    },
    {
      "cell_type": "code",
      "execution_count": 8,
      "metadata": {
        "colab": {
          "base_uri": "https://localhost:8080/"
        },
        "id": "aqr1f77jUZET",
        "outputId": "10f49168-9617-47e0-92b6-a45be031461e"
      },
      "outputs": [
        {
          "data": {
            "text/plain": [
              "{'character_count': 11,\n",
              " 'translations': [{'translation': 'హలో వరల్డ్'}],\n",
              " 'word_count': 3}"
            ]
          },
          "execution_count": 8,
          "metadata": {},
          "output_type": "execute_result"
        }
      ],
      "source": [
        "translation.get_result()"
      ]
    },
    {
      "cell_type": "code",
      "execution_count": 9,
      "metadata": {
        "colab": {
          "base_uri": "https://localhost:8080/"
        },
        "id": "6lUFbpZJUjyY",
        "outputId": "41723bf7-29ca-4a73-e446-cf71b2cc9fd5"
      },
      "outputs": [
        {
          "data": {
            "text/plain": [
              "{'character_count': 27,\n",
              " 'translations': [{'translation': 'మిషన్ లెర్నింగ్ కు స్వాగతం'}],\n",
              " 'word_count': 5}"
            ]
          },
          "execution_count": 9,
          "metadata": {},
          "output_type": "execute_result"
        }
      ],
      "source": [
        "text = 'Welcome To Machine Learning'\n",
        "\n",
        "translation = langtranslator.translate(text=text,model_id='en-te')\n",
        "\n",
        "translation.get_result()"
      ]
    },
    {
      "cell_type": "code",
      "execution_count": 10,
      "metadata": {
        "colab": {
          "base_uri": "https://localhost:8080/",
          "height": 35
        },
        "id": "QUx1Wbf6VN-b",
        "outputId": "5f41b210-0852-4cca-c7dc-f0372422e268"
      },
      "outputs": [
        {
          "data": {
            "application/vnd.google.colaboratory.intrinsic+json": {
              "type": "string"
            },
            "text/plain": [
              "'మిషన్ లెర్నింగ్ కు స్వాగతం'"
            ]
          },
          "execution_count": 10,
          "metadata": {},
          "output_type": "execute_result"
        }
      ],
      "source": [
        "translation.get_result()['translations'][0]['translation']"
      ]
    }
  ],
  "metadata": {
    "colab": {
      "name": "Language Translator.ipynb",
      "provenance": []
    },
    "kernelspec": {
      "display_name": "Python 3",
      "name": "python3"
    },
    "language_info": {
      "name": "python"
    }
  },
  "nbformat": 4,
  "nbformat_minor": 0
}
